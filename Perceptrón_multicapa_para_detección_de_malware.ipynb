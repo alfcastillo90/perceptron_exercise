{
  "nbformat": 4,
  "nbformat_minor": 0,
  "metadata": {
    "colab": {
      "name": "Perceptrón multicapa para detección de malware.ipynb",
      "provenance": [],
      "authorship_tag": "ABX9TyN7sP2TLEO4NSCDD2ivNki+",
      "include_colab_link": true
    },
    "kernelspec": {
      "name": "python3",
      "display_name": "Python 3"
    },
    "language_info": {
      "name": "python"
    }
  },
  "cells": [
    {
      "cell_type": "markdown",
      "metadata": {
        "id": "view-in-github",
        "colab_type": "text"
      },
      "source": [
        "<a href=\"https://colab.research.google.com/github/alfcastillo90/perceptron_exercise/blob/master/Perceptr%C3%B3n_multicapa_para_detecci%C3%B3n_de_malware.ipynb\" target=\"_parent\"><img src=\"https://colab.research.google.com/assets/colab-badge.svg\" alt=\"Open In Colab\"/></a>"
      ]
    },
    {
      "cell_type": "code",
      "execution_count": 18,
      "metadata": {
        "id": "s9G7wB-Xlxej"
      },
      "outputs": [],
      "source": [
        "import numpy as np\n",
        "import pylab as pl\n",
        "import pandas as pd\n",
        "import matplotlib.pyplot as plt \n",
        "%matplotlib inline\n",
        "import seaborn as sns\n",
        "from sklearn.utils import shuffle\n",
        "from sklearn.svm import SVC\n",
        "from sklearn.metrics import confusion_matrix,classification_report\n",
        "from sklearn.model_selection import cross_val_score, GridSearchCV"
      ]
    },
    {
      "cell_type": "code",
      "source": [
        "data = pd.read_csv(\"https://raw.githubusercontent.com/alfcastillo90/perceptron_exercise/master/data.csv\")"
      ],
      "metadata": {
        "id": "QtPdeHeGRqeL"
      },
      "execution_count": 19,
      "outputs": []
    },
    {
      "cell_type": "code",
      "source": [
        "data.head()"
      ],
      "metadata": {
        "id": "XROSYSVnucii",
        "colab": {
          "base_uri": "https://localhost:8080/",
          "height": 236
        },
        "outputId": "d3469f88-412e-4c9f-dded-fb6faa2a9e3e"
      },
      "execution_count": 20,
      "outputs": [
        {
          "output_type": "execute_result",
          "data": {
            "text/plain": [
              "                               hash  t_0  t_1  t_2  t_3  t_4  t_5  t_6  t_7  \\\n",
              "0  071e8c3f8922e186e57548cd4c703a5d  112  274  158  215  274  158  215  298   \n",
              "1  33f8e6d08a6aae939f25a8e0d63dd523   82  208  187  208  172  117  172  117   \n",
              "2  b68abd064e975e1c6d5f25e748663076   16  110  240  117  240  117  240  117   \n",
              "3  72049be7bd30ea61297ea624ae198067   82  208  187  208  172  117  172  117   \n",
              "4  c9b3700a77facf29172f32df6bc77f48   82  240  117  240  117  240  117  240   \n",
              "\n",
              "   t_8  ...  t_91  t_92  t_93  t_94  t_95  t_96  t_97  t_98  t_99  malware  \n",
              "0   76  ...    71   297   135   171   215    35   208    56    71        1  \n",
              "1  172  ...    81   240   117    71   297   135   171   215    35        1  \n",
              "2  240  ...    65   112   123    65   112   123    65   113   112        1  \n",
              "3  172  ...   208   302   208   302   187   208   302   228   302        1  \n",
              "4  117  ...   209   260    40   209   260   141   260   141   260        1  \n",
              "\n",
              "[5 rows x 102 columns]"
            ],
            "text/html": [
              "\n",
              "  <div id=\"df-cbfad812-80bd-45e0-9a9f-2a2005e6a39a\">\n",
              "    <div class=\"colab-df-container\">\n",
              "      <div>\n",
              "<style scoped>\n",
              "    .dataframe tbody tr th:only-of-type {\n",
              "        vertical-align: middle;\n",
              "    }\n",
              "\n",
              "    .dataframe tbody tr th {\n",
              "        vertical-align: top;\n",
              "    }\n",
              "\n",
              "    .dataframe thead th {\n",
              "        text-align: right;\n",
              "    }\n",
              "</style>\n",
              "<table border=\"1\" class=\"dataframe\">\n",
              "  <thead>\n",
              "    <tr style=\"text-align: right;\">\n",
              "      <th></th>\n",
              "      <th>hash</th>\n",
              "      <th>t_0</th>\n",
              "      <th>t_1</th>\n",
              "      <th>t_2</th>\n",
              "      <th>t_3</th>\n",
              "      <th>t_4</th>\n",
              "      <th>t_5</th>\n",
              "      <th>t_6</th>\n",
              "      <th>t_7</th>\n",
              "      <th>t_8</th>\n",
              "      <th>...</th>\n",
              "      <th>t_91</th>\n",
              "      <th>t_92</th>\n",
              "      <th>t_93</th>\n",
              "      <th>t_94</th>\n",
              "      <th>t_95</th>\n",
              "      <th>t_96</th>\n",
              "      <th>t_97</th>\n",
              "      <th>t_98</th>\n",
              "      <th>t_99</th>\n",
              "      <th>malware</th>\n",
              "    </tr>\n",
              "  </thead>\n",
              "  <tbody>\n",
              "    <tr>\n",
              "      <th>0</th>\n",
              "      <td>071e8c3f8922e186e57548cd4c703a5d</td>\n",
              "      <td>112</td>\n",
              "      <td>274</td>\n",
              "      <td>158</td>\n",
              "      <td>215</td>\n",
              "      <td>274</td>\n",
              "      <td>158</td>\n",
              "      <td>215</td>\n",
              "      <td>298</td>\n",
              "      <td>76</td>\n",
              "      <td>...</td>\n",
              "      <td>71</td>\n",
              "      <td>297</td>\n",
              "      <td>135</td>\n",
              "      <td>171</td>\n",
              "      <td>215</td>\n",
              "      <td>35</td>\n",
              "      <td>208</td>\n",
              "      <td>56</td>\n",
              "      <td>71</td>\n",
              "      <td>1</td>\n",
              "    </tr>\n",
              "    <tr>\n",
              "      <th>1</th>\n",
              "      <td>33f8e6d08a6aae939f25a8e0d63dd523</td>\n",
              "      <td>82</td>\n",
              "      <td>208</td>\n",
              "      <td>187</td>\n",
              "      <td>208</td>\n",
              "      <td>172</td>\n",
              "      <td>117</td>\n",
              "      <td>172</td>\n",
              "      <td>117</td>\n",
              "      <td>172</td>\n",
              "      <td>...</td>\n",
              "      <td>81</td>\n",
              "      <td>240</td>\n",
              "      <td>117</td>\n",
              "      <td>71</td>\n",
              "      <td>297</td>\n",
              "      <td>135</td>\n",
              "      <td>171</td>\n",
              "      <td>215</td>\n",
              "      <td>35</td>\n",
              "      <td>1</td>\n",
              "    </tr>\n",
              "    <tr>\n",
              "      <th>2</th>\n",
              "      <td>b68abd064e975e1c6d5f25e748663076</td>\n",
              "      <td>16</td>\n",
              "      <td>110</td>\n",
              "      <td>240</td>\n",
              "      <td>117</td>\n",
              "      <td>240</td>\n",
              "      <td>117</td>\n",
              "      <td>240</td>\n",
              "      <td>117</td>\n",
              "      <td>240</td>\n",
              "      <td>...</td>\n",
              "      <td>65</td>\n",
              "      <td>112</td>\n",
              "      <td>123</td>\n",
              "      <td>65</td>\n",
              "      <td>112</td>\n",
              "      <td>123</td>\n",
              "      <td>65</td>\n",
              "      <td>113</td>\n",
              "      <td>112</td>\n",
              "      <td>1</td>\n",
              "    </tr>\n",
              "    <tr>\n",
              "      <th>3</th>\n",
              "      <td>72049be7bd30ea61297ea624ae198067</td>\n",
              "      <td>82</td>\n",
              "      <td>208</td>\n",
              "      <td>187</td>\n",
              "      <td>208</td>\n",
              "      <td>172</td>\n",
              "      <td>117</td>\n",
              "      <td>172</td>\n",
              "      <td>117</td>\n",
              "      <td>172</td>\n",
              "      <td>...</td>\n",
              "      <td>208</td>\n",
              "      <td>302</td>\n",
              "      <td>208</td>\n",
              "      <td>302</td>\n",
              "      <td>187</td>\n",
              "      <td>208</td>\n",
              "      <td>302</td>\n",
              "      <td>228</td>\n",
              "      <td>302</td>\n",
              "      <td>1</td>\n",
              "    </tr>\n",
              "    <tr>\n",
              "      <th>4</th>\n",
              "      <td>c9b3700a77facf29172f32df6bc77f48</td>\n",
              "      <td>82</td>\n",
              "      <td>240</td>\n",
              "      <td>117</td>\n",
              "      <td>240</td>\n",
              "      <td>117</td>\n",
              "      <td>240</td>\n",
              "      <td>117</td>\n",
              "      <td>240</td>\n",
              "      <td>117</td>\n",
              "      <td>...</td>\n",
              "      <td>209</td>\n",
              "      <td>260</td>\n",
              "      <td>40</td>\n",
              "      <td>209</td>\n",
              "      <td>260</td>\n",
              "      <td>141</td>\n",
              "      <td>260</td>\n",
              "      <td>141</td>\n",
              "      <td>260</td>\n",
              "      <td>1</td>\n",
              "    </tr>\n",
              "  </tbody>\n",
              "</table>\n",
              "<p>5 rows × 102 columns</p>\n",
              "</div>\n",
              "      <button class=\"colab-df-convert\" onclick=\"convertToInteractive('df-cbfad812-80bd-45e0-9a9f-2a2005e6a39a')\"\n",
              "              title=\"Convert this dataframe to an interactive table.\"\n",
              "              style=\"display:none;\">\n",
              "        \n",
              "  <svg xmlns=\"http://www.w3.org/2000/svg\" height=\"24px\"viewBox=\"0 0 24 24\"\n",
              "       width=\"24px\">\n",
              "    <path d=\"M0 0h24v24H0V0z\" fill=\"none\"/>\n",
              "    <path d=\"M18.56 5.44l.94 2.06.94-2.06 2.06-.94-2.06-.94-.94-2.06-.94 2.06-2.06.94zm-11 1L8.5 8.5l.94-2.06 2.06-.94-2.06-.94L8.5 2.5l-.94 2.06-2.06.94zm10 10l.94 2.06.94-2.06 2.06-.94-2.06-.94-.94-2.06-.94 2.06-2.06.94z\"/><path d=\"M17.41 7.96l-1.37-1.37c-.4-.4-.92-.59-1.43-.59-.52 0-1.04.2-1.43.59L10.3 9.45l-7.72 7.72c-.78.78-.78 2.05 0 2.83L4 21.41c.39.39.9.59 1.41.59.51 0 1.02-.2 1.41-.59l7.78-7.78 2.81-2.81c.8-.78.8-2.07 0-2.86zM5.41 20L4 18.59l7.72-7.72 1.47 1.35L5.41 20z\"/>\n",
              "  </svg>\n",
              "      </button>\n",
              "      \n",
              "  <style>\n",
              "    .colab-df-container {\n",
              "      display:flex;\n",
              "      flex-wrap:wrap;\n",
              "      gap: 12px;\n",
              "    }\n",
              "\n",
              "    .colab-df-convert {\n",
              "      background-color: #E8F0FE;\n",
              "      border: none;\n",
              "      border-radius: 50%;\n",
              "      cursor: pointer;\n",
              "      display: none;\n",
              "      fill: #1967D2;\n",
              "      height: 32px;\n",
              "      padding: 0 0 0 0;\n",
              "      width: 32px;\n",
              "    }\n",
              "\n",
              "    .colab-df-convert:hover {\n",
              "      background-color: #E2EBFA;\n",
              "      box-shadow: 0px 1px 2px rgba(60, 64, 67, 0.3), 0px 1px 3px 1px rgba(60, 64, 67, 0.15);\n",
              "      fill: #174EA6;\n",
              "    }\n",
              "\n",
              "    [theme=dark] .colab-df-convert {\n",
              "      background-color: #3B4455;\n",
              "      fill: #D2E3FC;\n",
              "    }\n",
              "\n",
              "    [theme=dark] .colab-df-convert:hover {\n",
              "      background-color: #434B5C;\n",
              "      box-shadow: 0px 1px 3px 1px rgba(0, 0, 0, 0.15);\n",
              "      filter: drop-shadow(0px 1px 2px rgba(0, 0, 0, 0.3));\n",
              "      fill: #FFFFFF;\n",
              "    }\n",
              "  </style>\n",
              "\n",
              "      <script>\n",
              "        const buttonEl =\n",
              "          document.querySelector('#df-cbfad812-80bd-45e0-9a9f-2a2005e6a39a button.colab-df-convert');\n",
              "        buttonEl.style.display =\n",
              "          google.colab.kernel.accessAllowed ? 'block' : 'none';\n",
              "\n",
              "        async function convertToInteractive(key) {\n",
              "          const element = document.querySelector('#df-cbfad812-80bd-45e0-9a9f-2a2005e6a39a');\n",
              "          const dataTable =\n",
              "            await google.colab.kernel.invokeFunction('convertToInteractive',\n",
              "                                                     [key], {});\n",
              "          if (!dataTable) return;\n",
              "\n",
              "          const docLinkHtml = 'Like what you see? Visit the ' +\n",
              "            '<a target=\"_blank\" href=https://colab.research.google.com/notebooks/data_table.ipynb>data table notebook</a>'\n",
              "            + ' to learn more about interactive tables.';\n",
              "          element.innerHTML = '';\n",
              "          dataTable['output_type'] = 'display_data';\n",
              "          await google.colab.output.renderOutput(dataTable, element);\n",
              "          const docLink = document.createElement('div');\n",
              "          docLink.innerHTML = docLinkHtml;\n",
              "          element.appendChild(docLink);\n",
              "        }\n",
              "      </script>\n",
              "    </div>\n",
              "  </div>\n",
              "  "
            ]
          },
          "metadata": {},
          "execution_count": 20
        }
      ]
    },
    {
      "cell_type": "code",
      "source": [
        "#eliminamos el hash, es una data irrelevante\n",
        "data1 = data.drop(columns=['hash'], axis=1)\n",
        "data1 = data1.dropna(how='any')\n",
        "print(data1.shape)"
      ],
      "metadata": {
        "colab": {
          "base_uri": "https://localhost:8080/"
        },
        "id": "2eSen6D-R00p",
        "outputId": "73bc7109-2bca-4797-b8a8-33d4c990a32e"
      },
      "execution_count": 12,
      "outputs": [
        {
          "output_type": "stream",
          "name": "stdout",
          "text": [
            "(43876, 101)\n"
          ]
        }
      ]
    },
    {
      "cell_type": "code",
      "source": [
        "#visualizamos la data\n",
        "cnt_pro = data1['malware'].value_counts()\n",
        "plt.figure(figsize=(12,4))\n",
        "sns.barplot(cnt_pro.index, cnt_pro.values, alpha=0.8)\n",
        "plt.ylabel('Numero de datos', fontsize=12)\n",
        "plt.xlabel('malware', fontsize=12)\n",
        "plt.xticks(rotation=90)\n",
        "plt.show();"
      ],
      "metadata": {
        "colab": {
          "base_uri": "https://localhost:8080/",
          "height": 334
        },
        "id": "IVqfvoKXR_96",
        "outputId": "5e47d435-0165-448e-ac9b-e928200246dc"
      },
      "execution_count": 13,
      "outputs": [
        {
          "output_type": "stream",
          "name": "stderr",
          "text": [
            "/usr/local/lib/python3.7/dist-packages/seaborn/_decorators.py:43: FutureWarning: Pass the following variables as keyword args: x, y. From version 0.12, the only valid positional argument will be `data`, and passing other arguments without an explicit keyword will result in an error or misinterpretation.\n",
            "  FutureWarning\n"
          ]
        },
        {
          "output_type": "display_data",
          "data": {
            "text/plain": [
              "<Figure size 864x288 with 1 Axes>"
            ],
            "image/png": "[encoded data removed]"
          },
          "metadata": {
            "needs_background": "light"
          }
        }
      ]
    },
    {
      "cell_type": "code",
      "source": [
        "#Dividimos la información\n",
        "\n",
        "from sklearn.model_selection import train_test_split\n",
        "Y = data1['malware']\n",
        "X = data1.drop(columns=['malware'])\n",
        "X_train, X_test, Y_train, Y_test = train_test_split(X, Y, test_size=0.1, random_state=9)\n",
        "\n",
        "print('X train shape: ', X_train.shape)\n",
        "print('Y train shape: ', Y_train.shape)\n",
        "print('X test shape: ', X_test.shape)\n",
        "print('Y test shape: ', Y_test.shape)"
      ],
      "metadata": {
        "colab": {
          "base_uri": "https://localhost:8080/"
        },
        "id": "FAQTs1g1SBrg",
        "outputId": "74f9e627-f0ab-4971-c49e-0227a7ac0e9c"
      },
      "execution_count": 21,
      "outputs": [
        {
          "output_type": "stream",
          "name": "stdout",
          "text": [
            "X train shape:  (39488, 100)\n",
            "Y train shape:  (39488,)\n",
            "X test shape:  (4388, 100)\n",
            "Y test shape:  (4388,)\n"
          ]
        }
      ]
    },
    {
      "cell_type": "code",
      "source": [
        "# Construimos el modelo\n",
        "\n",
        "from sklearn.neural_network import MLPClassifier\n",
        "\n",
        "# 1) Definimos el modelo\n",
        "mlp = MLPClassifier(hidden_layer_sizes=(100,100,100),max_iter=1000, random_state=42)\n",
        "\n",
        "# 2) Entrenamos el modelo\n",
        "mlp.fit(X_train, Y_train)\n",
        "\n",
        "\n",
        "# Predecimos el target\n",
        "prediction = mlp.predict(X_test)"
      ],
      "metadata": {
        "id": "GGSF471yTTlr"
      },
      "execution_count": 22,
      "outputs": []
    },
    {
      "cell_type": "code",
      "source": [
        "test_acc_mlp = round(mlp.fit(X_train,Y_train).score(X_test, Y_test)* 100, 2)\n",
        "train_acc_mlp = round(mlp.fit(X_train, Y_train).score(X_train, Y_train)* 100, 2)"
      ],
      "metadata": {
        "id": "_9LQpyr2T7lf"
      },
      "execution_count": null,
      "outputs": []
    },
    {
      "cell_type": "code",
      "source": [
        "#Utilizaremos una matriz de confuzion para hacer una sumarizacion de los resultados de la predición en la clasificación. \n",
        "#El numero de las correcciónes correctas e incorrectas es contabilizado\n",
        "\n",
        "mlp_cm = confusion_matrix(Y_test, prediction)\n",
        "f, ax = plt.subplots(figsize=(5,5))\n",
        "sns.heatmap(mlp_cm, annot=True, linewidth=0.7, linecolor='black', fmt='g', ax=ax, cmap=\"BuPu\")\n",
        "plt.title('Matriz de confusión para el perceptroón multi capa')\n",
        "plt.xlabel('Predicción Y')\n",
        "plt.ylabel('Test Y')\n",
        "plt.show()"
      ],
      "metadata": {
        "colab": {
          "base_uri": "https://localhost:8080/",
          "height": 350
        },
        "id": "QKl9BxJNT_5l",
        "outputId": "3e5d89ff-13a6-42c2-8801-f626a908b2d2"
      },
      "execution_count": 17,
      "outputs": [
        {
          "output_type": "display_data",
          "data": {
            "text/plain": [
              "<Figure size 360x360 with 2 Axes>"
            ],
            "image/png": "[encoded data removed]"
          },
          "metadata": {
            "needs_background": "light"
          }
        }
      ]
    },
    {
      "cell_type": "code",
      "source": [
        "#Presición de resultados\n",
        "\n",
        "model1 = pd.DataFrame({\n",
        "    'Model': ['MLP'],\n",
        "    'Train Score': [train_acc_mlp],\n",
        "    'Test Score': [test_acc_mlp]\n",
        "})\n",
        "model1.sort_values(by='Test Score', ascending=False)"
      ],
      "metadata": {
        "id": "JrxRo-LqWtIN"
      },
      "execution_count": null,
      "outputs": []
    },
    {
      "cell_type": "code",
      "source": [
        "from sklearn.metrics import average_precision_score\n",
        "average_precision = average_precision_score(Y_test, prediction)\n",
        "\n",
        "print('puntuación promedio de precision-recall: {0:0.2f}'.format(\n",
        "      average_precision))"
      ],
      "metadata": {
        "id": "n41H78GPXSv2"
      },
      "execution_count": null,
      "outputs": []
    },
    {
      "cell_type": "code",
      "source": [
        "from sklearn.metrics import precision_recall_curve\n",
        "from sklearn.metrics import plot_precision_recall_curve\n",
        "import matplotlib.pyplot as plt\n",
        "\n",
        "disp = plot_precision_recall_curve(mlp,X_train, Y_train)\n",
        "disp.ax_.set_title('Curva de Precision-Recall: '\n",
        "                   'AP={0:0.2f}'.format(average_precision))"
      ],
      "metadata": {
        "id": "KqmDO89eXYQw"
      },
      "execution_count": null,
      "outputs": []
    }
  ]
}